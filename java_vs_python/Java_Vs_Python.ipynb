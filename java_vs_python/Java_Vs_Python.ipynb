{
 "cells": [
  {
   "cell_type": "markdown",
   "metadata": {
    "deletable": true,
    "editable": true,
    "slideshow": {
     "slide_type": "slide"
    }
   },
   "source": [
    "# Java vs Python"
   ]
  },
  {
   "cell_type": "markdown",
   "metadata": {
    "deletable": true,
    "editable": true,
    "slideshow": {
     "slide_type": "slide"
    }
   },
   "source": [
    "## Who am I?\n",
    "\n",
    "* Cesare Placanica\n",
    "* Cisco Photonics NMTG group.\n",
    "* Java developer since 2010 (Java 1.5/1.7, Spring, Hibernate and Tomcat).\n",
    "* Previously C/C++ embedded RTOSes."
   ]
  },
  {
   "cell_type": "markdown",
   "metadata": {
    "deletable": true,
    "editable": true,
    "slideshow": {
     "slide_type": "slide"
    }
   },
   "source": [
    "## Agenda\n",
    "* Round 1 AOP vs decorators.\n",
    "* Round 2 Generics vs Duck Typing."
   ]
  },
  {
   "cell_type": "markdown",
   "metadata": {
    "deletable": true,
    "editable": true,
    "slideshow": {
     "slide_type": "slide"
    }
   },
   "source": [
    "# Round 1 Aspect Oriented Programming vs Decorators\n",
    "\n",
    "http://stackoverflow.com/questions/4551457/python-like-decorators-in-java"
   ]
  },
  {
   "cell_type": "markdown",
   "metadata": {
    "deletable": true,
    "editable": true,
    "slideshow": {
     "slide_type": "subslide"
    }
   },
   "source": [
    "## Problem Definition\n",
    "Encapsulation of cross-cutting concers. Logging, AAA, Caching, Profiling."
   ]
  },
  {
   "cell_type": "markdown",
   "metadata": {
    "deletable": true,
    "editable": true,
    "slideshow": {
     "slide_type": "fragment"
    }
   },
   "source": [
    "<img src=\"burger.png\">"
   ]
  },
  {
   "cell_type": "markdown",
   "metadata": {
    "deletable": true,
    "editable": true,
    "slideshow": {
     "slide_type": "subslide"
    }
   },
   "source": [
    "# Java\n",
    "\n",
    "A Spring Aspect Oriented Programming example.\n",
    "\n",
    "https://github.com/keobox/dojokaffe/tree/master/fp/spring-elapsed"
   ]
  },
  {
   "cell_type": "markdown",
   "metadata": {
    "deletable": true,
    "editable": true,
    "slideshow": {
     "slide_type": "notes"
    }
   },
   "source": [
    "Code walkthrough in Eclipse."
   ]
  },
  {
   "cell_type": "markdown",
   "metadata": {
    "deletable": true,
    "editable": true,
    "slideshow": {
     "slide_type": "slide"
    }
   },
   "source": [
    "# Python"
   ]
  },
  {
   "cell_type": "code",
   "execution_count": 3,
   "metadata": {
    "collapsed": false,
    "deletable": true,
    "editable": true,
    "slideshow": {
     "slide_type": "subslide"
    }
   },
   "outputs": [],
   "source": [
    "\"Elapsed decorator.\"\n",
    "\n",
    "import datetime\n",
    "\n",
    "def elapsed(func):\n",
    "    \"Elapsed decorator\"\n",
    "    def _wrapper(*args, **kwargs):\n",
    "        \"Decoration function\"\n",
    "        start = datetime.datetime.now()\n",
    "        ret = func(*args, **kwargs)\n",
    "        print(\"Elapsed time\", datetime.datetime.now() - start)\n",
    "        return ret\n",
    "    return _wrapper"
   ]
  },
  {
   "cell_type": "markdown",
   "metadata": {
    "deletable": true,
    "editable": true,
    "slideshow": {
     "slide_type": "subslide"
    }
   },
   "source": [
    "The former was both a Closure and a High Order Function. Did you heard about Functional Programming?"
   ]
  },
  {
   "cell_type": "code",
   "execution_count": 6,
   "metadata": {
    "collapsed": false,
    "deletable": true,
    "editable": true,
    "slideshow": {
     "slide_type": "slide"
    }
   },
   "outputs": [
    {
     "name": "stdout",
     "output_type": "stream",
     "text": [
      "Processing...\n",
      "Elapsed time 0:00:02.002021\n"
     ]
    }
   ],
   "source": [
    "# Usage:\n",
    "\n",
    "import time\n",
    "\n",
    "@elapsed\n",
    "def task():\n",
    "    \"A difficult task.\"\n",
    "    print(\"Processing...\")\n",
    "    time.sleep(2)\n",
    "\n",
    "task()"
   ]
  },
  {
   "cell_type": "markdown",
   "metadata": {
    "deletable": true,
    "editable": true,
    "slideshow": {
     "slide_type": "subslide"
    }
   },
   "source": [
    "The previous was the built-in \"Decorator\" syntax."
   ]
  },
  {
   "cell_type": "markdown",
   "metadata": {
    "deletable": true,
    "editable": true,
    "slideshow": {
     "slide_type": "fragment"
    }
   },
   "source": [
    "## Battery Included!!"
   ]
  },
  {
   "cell_type": "markdown",
   "metadata": {
    "deletable": true,
    "editable": true,
    "slideshow": {
     "slide_type": "slide"
    }
   },
   "source": [
    "# Round 2 Generics vs Duck Typing"
   ]
  },
  {
   "cell_type": "markdown",
   "metadata": {
    "deletable": true,
    "editable": true,
    "slideshow": {
     "slide_type": "slide"
    }
   },
   "source": [
    "## Problem definition\n",
    "Write \"Generic\" code.\n",
    "OK, less naive, in Java, write code in terms of types to-be-specified-later that are checked at compile time when instantiated by the client of a \"parametrized\" class."
   ]
  },
  {
   "cell_type": "markdown",
   "metadata": {
    "deletable": true,
    "editable": true,
    "slideshow": {
     "slide_type": "subslide"
    }
   },
   "source": [
    "Duck Typing it's a sort of Generic Programming where object's suitability is determined by the presence of certain methods and properties, rather than the actual type of the object."
   ]
  },
  {
   "cell_type": "markdown",
   "metadata": {
    "deletable": true,
    "editable": true,
    "slideshow": {
     "slide_type": "subslide"
    }
   },
   "source": [
    "Although is perfectly possible to use Duck Typing in Java with the Reflection API, Java is not done for this. Since Java 1.5 we have Generics, so let's take a look to them."
   ]
  },
  {
   "cell_type": "markdown",
   "metadata": {
    "deletable": true,
    "editable": true,
    "slideshow": {
     "slide_type": "notes"
    }
   },
   "source": [
    "Look at Generics issues pointed out by \"Effective Java\" Item 25.\n",
    "* Java Arrays are type safe at runtime only, because covariant and reified. Fixed in Scala: arrays are invariant, immutable lists are covariant.\n",
    "* Java Containers are invariant and erased, so it's not possible to write arrays of containers, because arrays of not reified types are not permitted.\n",
    "* Arrays and Generics do not mix well.\n",
    "* API with Generics and varargs: varargs means arrays. Mitigantion: wildcards, see Item 28.\n",
    "* Erasure preserved backward compatibility but is an implementation issue that clutters the language."
   ]
  },
  {
   "cell_type": "markdown",
   "metadata": {
    "deletable": true,
    "editable": true,
    "slideshow": {
     "slide_type": "slide"
    }
   },
   "source": [
    "Generics was a great addition, but the choice to be backward compatible with previous Java code has produced some implementation problems that surfaced into the language design."
   ]
  },
  {
   "cell_type": "markdown",
   "metadata": {
    "deletable": true,
    "editable": true,
    "slideshow": {
     "slide_type": "subslide"
    }
   },
   "source": [
    "## Pitfalls\n",
    "<img src=\"pitfall.png\">"
   ]
  },
  {
   "cell_type": "markdown",
   "metadata": {
    "deletable": true,
    "editable": true,
    "slideshow": {
     "slide_type": "subslide"
    }
   },
   "source": [
    "Other examples of Pitfalls:\n",
    "* C++ non virtual destructors.\n",
    "* Java and C++ calling virtual methods in constructors."
   ]
  },
  {
   "cell_type": "markdown",
   "metadata": {
    "deletable": true,
    "editable": true,
    "slideshow": {
     "slide_type": "slide"
    }
   },
   "source": [
    "## Some praises to Python Language Design\n",
    "\n",
    "\"...This was my first clue that, in Python, I was actually dealing with an exceptionally good design. Most languages have so much friction and awkwardness built into their design that you learn most of their feature set long before your misstep rate drops anywhere near zero...\". \"Why Python?\" Eric Raymond, 2000, http://www.linuxjournal.com/article/3882"
   ]
  },
  {
   "cell_type": "markdown",
   "metadata": {
    "deletable": true,
    "editable": true,
    "slideshow": {
     "slide_type": "subslide"
    }
   },
   "source": [
    "\"I always admired the neatness of Python syntax...\". Martin Odersky, 2017, https://github.com/lampepfl/dotty/issues/2491"
   ]
  },
  {
   "cell_type": "markdown",
   "metadata": {
    "deletable": true,
    "editable": true,
    "slideshow": {
     "slide_type": "slide"
    }
   },
   "source": [
    "# Conclusion\n",
    "* Java Language design was driven by performance and backward compatibility.\n",
    "* Python Language is a well designed language. But is not fast, as Java."
   ]
  },
  {
   "cell_type": "markdown",
   "metadata": {
    "deletable": true,
    "editable": true,
    "slideshow": {
     "slide_type": "subslide"
    }
   },
   "source": [
    "## BTW in Java there's stuff I like."
   ]
  },
  {
   "cell_type": "markdown",
   "metadata": {
    "deletable": true,
    "editable": true,
    "slideshow": {
     "slide_type": "subslide"
    }
   },
   "source": [
    "* Abstract Base Classes.\n",
    "* Interfaces.\n",
    "* A terse import system."
   ]
  },
  {
   "cell_type": "markdown",
   "metadata": {
    "deletable": true,
    "editable": true,
    "slideshow": {
     "slide_type": "slide"
    }
   },
   "source": [
    "# Bibliography"
   ]
  },
  {
   "cell_type": "markdown",
   "metadata": {
    "deletable": true,
    "editable": true,
    "slideshow": {
     "slide_type": "subslide"
    }
   },
   "source": [
    "* Effective Java, 2nd edition, Joshua Bloch.\n",
    "* The Well Grounded Java Developer, Benjamin J. Evans and Martijn Verburg.\n",
    "* Python in a Nutshell, 2nd edition, Alex Martelli.\n",
    "* The Quick Python Book, 2nd edition, Vernon L. Ceder.\n",
    "* Programming in Scala, 2nd edition, Marting Odersky, Lex Spoon, Bill Venners."
   ]
  }
 ],
 "metadata": {
  "celltoolbar": "Slideshow",
  "kernelspec": {
   "display_name": "Python 3",
   "language": "python",
   "name": "python3"
  },
  "language_info": {
   "codemirror_mode": {
    "name": "ipython",
    "version": 3
   },
   "file_extension": ".py",
   "mimetype": "text/x-python",
   "name": "python",
   "nbconvert_exporter": "python",
   "pygments_lexer": "ipython3",
   "version": "3.5.2"
  }
 },
 "nbformat": 4,
 "nbformat_minor": 2
}
